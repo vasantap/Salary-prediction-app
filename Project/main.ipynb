{
 "cells": [
  {
   "cell_type": "code",
   "execution_count": 1,
   "metadata": {},
   "outputs": [],
   "source": [
    "import pandas as pd\n",
    "import numpy as np\n",
    "import matplotlib.pyplot as plt\n",
    "import seaborn as sns\n",
    "from sklearn.linear_model import LogisticRegression\n",
    "from sklearn.model_selection import train_test_split\n",
    "from sklearn import metrics\n",
    "import os\n",
    "import sys\n",
    "import scipy.stats as stats\n",
    "%matplotlib inline"
   ]
  },
  {
   "cell_type": "markdown",
   "metadata": {},
   "source": [
    "#### Importing and cleaning data"
   ]
  },
  {
   "cell_type": "code",
   "execution_count": 2,
   "metadata": {},
   "outputs": [
    {
     "data": {
      "text/html": [
       "<div>\n",
       "<style scoped>\n",
       "    .dataframe tbody tr th:only-of-type {\n",
       "        vertical-align: middle;\n",
       "    }\n",
       "\n",
       "    .dataframe tbody tr th {\n",
       "        vertical-align: top;\n",
       "    }\n",
       "\n",
       "    .dataframe thead th {\n",
       "        text-align: right;\n",
       "    }\n",
       "</style>\n",
       "<table border=\"1\" class=\"dataframe\">\n",
       "  <thead>\n",
       "    <tr style=\"text-align: right;\">\n",
       "      <th></th>\n",
       "      <th>age</th>\n",
       "      <th>workclass</th>\n",
       "      <th>fnlwgt</th>\n",
       "      <th>education</th>\n",
       "      <th>education-num</th>\n",
       "      <th>marital-status</th>\n",
       "      <th>occupation</th>\n",
       "      <th>relationship</th>\n",
       "      <th>race</th>\n",
       "      <th>sex</th>\n",
       "      <th>capital-gain</th>\n",
       "      <th>capital-loss</th>\n",
       "      <th>hours-per-week</th>\n",
       "      <th>native-country</th>\n",
       "      <th>salary</th>\n",
       "    </tr>\n",
       "  </thead>\n",
       "  <tbody>\n",
       "    <tr>\n",
       "      <th>0</th>\n",
       "      <td>39</td>\n",
       "      <td>State-gov</td>\n",
       "      <td>77516</td>\n",
       "      <td>Bachelors</td>\n",
       "      <td>13</td>\n",
       "      <td>Never-married</td>\n",
       "      <td>Adm-clerical</td>\n",
       "      <td>Not-in-family</td>\n",
       "      <td>White</td>\n",
       "      <td>Male</td>\n",
       "      <td>2174</td>\n",
       "      <td>0</td>\n",
       "      <td>40</td>\n",
       "      <td>United-States</td>\n",
       "      <td>&lt;=50K</td>\n",
       "    </tr>\n",
       "    <tr>\n",
       "      <th>1</th>\n",
       "      <td>50</td>\n",
       "      <td>Self-emp-not-inc</td>\n",
       "      <td>83311</td>\n",
       "      <td>Bachelors</td>\n",
       "      <td>13</td>\n",
       "      <td>Married-civ-spouse</td>\n",
       "      <td>Exec-managerial</td>\n",
       "      <td>Husband</td>\n",
       "      <td>White</td>\n",
       "      <td>Male</td>\n",
       "      <td>0</td>\n",
       "      <td>0</td>\n",
       "      <td>13</td>\n",
       "      <td>United-States</td>\n",
       "      <td>&lt;=50K</td>\n",
       "    </tr>\n",
       "    <tr>\n",
       "      <th>2</th>\n",
       "      <td>38</td>\n",
       "      <td>Private</td>\n",
       "      <td>215646</td>\n",
       "      <td>HS-grad</td>\n",
       "      <td>9</td>\n",
       "      <td>Divorced</td>\n",
       "      <td>Handlers-cleaners</td>\n",
       "      <td>Not-in-family</td>\n",
       "      <td>White</td>\n",
       "      <td>Male</td>\n",
       "      <td>0</td>\n",
       "      <td>0</td>\n",
       "      <td>40</td>\n",
       "      <td>United-States</td>\n",
       "      <td>&lt;=50K</td>\n",
       "    </tr>\n",
       "    <tr>\n",
       "      <th>3</th>\n",
       "      <td>53</td>\n",
       "      <td>Private</td>\n",
       "      <td>234721</td>\n",
       "      <td>11th</td>\n",
       "      <td>7</td>\n",
       "      <td>Married-civ-spouse</td>\n",
       "      <td>Handlers-cleaners</td>\n",
       "      <td>Husband</td>\n",
       "      <td>Black</td>\n",
       "      <td>Male</td>\n",
       "      <td>0</td>\n",
       "      <td>0</td>\n",
       "      <td>40</td>\n",
       "      <td>United-States</td>\n",
       "      <td>&lt;=50K</td>\n",
       "    </tr>\n",
       "    <tr>\n",
       "      <th>4</th>\n",
       "      <td>28</td>\n",
       "      <td>Private</td>\n",
       "      <td>338409</td>\n",
       "      <td>Bachelors</td>\n",
       "      <td>13</td>\n",
       "      <td>Married-civ-spouse</td>\n",
       "      <td>Prof-specialty</td>\n",
       "      <td>Wife</td>\n",
       "      <td>Black</td>\n",
       "      <td>Female</td>\n",
       "      <td>0</td>\n",
       "      <td>0</td>\n",
       "      <td>40</td>\n",
       "      <td>Cuba</td>\n",
       "      <td>&lt;=50K</td>\n",
       "    </tr>\n",
       "  </tbody>\n",
       "</table>\n",
       "</div>"
      ],
      "text/plain": [
       "   age          workclass  fnlwgt   education  education-num  \\\n",
       "0   39          State-gov   77516   Bachelors             13   \n",
       "1   50   Self-emp-not-inc   83311   Bachelors             13   \n",
       "2   38            Private  215646     HS-grad              9   \n",
       "3   53            Private  234721        11th              7   \n",
       "4   28            Private  338409   Bachelors             13   \n",
       "\n",
       "        marital-status          occupation    relationship    race      sex  \\\n",
       "0        Never-married        Adm-clerical   Not-in-family   White     Male   \n",
       "1   Married-civ-spouse     Exec-managerial         Husband   White     Male   \n",
       "2             Divorced   Handlers-cleaners   Not-in-family   White     Male   \n",
       "3   Married-civ-spouse   Handlers-cleaners         Husband   Black     Male   \n",
       "4   Married-civ-spouse      Prof-specialty            Wife   Black   Female   \n",
       "\n",
       "   capital-gain  capital-loss  hours-per-week  native-country  salary  \n",
       "0          2174             0              40   United-States   <=50K  \n",
       "1             0             0              13   United-States   <=50K  \n",
       "2             0             0              40   United-States   <=50K  \n",
       "3             0             0              40   United-States   <=50K  \n",
       "4             0             0              40            Cuba   <=50K  "
      ]
     },
     "execution_count": 2,
     "metadata": {},
     "output_type": "execute_result"
    }
   ],
   "source": [
    "# Import adult.data into a dataframe\n",
    "df = pd.read_csv('adult.data', header=None)\n",
    "df.columns = ['age', 'workclass', 'fnlwgt', 'education', 'education-num', 'marital-status', 'occupation', 'relationship','race', 'sex', 'capital-gain', 'capital-loss','hours-per-week','native-country','salary']\n",
    "df.head()"
   ]
  },
  {
   "cell_type": "code",
   "execution_count": 3,
   "metadata": {},
   "outputs": [
    {
     "data": {
      "text/html": [
       "<div>\n",
       "<style scoped>\n",
       "    .dataframe tbody tr th:only-of-type {\n",
       "        vertical-align: middle;\n",
       "    }\n",
       "\n",
       "    .dataframe tbody tr th {\n",
       "        vertical-align: top;\n",
       "    }\n",
       "\n",
       "    .dataframe thead th {\n",
       "        text-align: right;\n",
       "    }\n",
       "</style>\n",
       "<table border=\"1\" class=\"dataframe\">\n",
       "  <thead>\n",
       "    <tr style=\"text-align: right;\">\n",
       "      <th></th>\n",
       "      <th>age</th>\n",
       "      <th>workclass</th>\n",
       "      <th>fnlwgt</th>\n",
       "      <th>education</th>\n",
       "      <th>education-num</th>\n",
       "      <th>marital-status</th>\n",
       "      <th>occupation</th>\n",
       "      <th>relationship</th>\n",
       "      <th>race</th>\n",
       "      <th>sex</th>\n",
       "      <th>capital-gain</th>\n",
       "      <th>capital-loss</th>\n",
       "      <th>hours-per-week</th>\n",
       "      <th>native-country</th>\n",
       "      <th>salary</th>\n",
       "    </tr>\n",
       "  </thead>\n",
       "  <tbody>\n",
       "    <tr>\n",
       "      <th>0</th>\n",
       "      <td>39</td>\n",
       "      <td>State-gov</td>\n",
       "      <td>77516</td>\n",
       "      <td>Bachelors</td>\n",
       "      <td>13</td>\n",
       "      <td>Never-married</td>\n",
       "      <td>Adm-clerical</td>\n",
       "      <td>Not-in-family</td>\n",
       "      <td>White</td>\n",
       "      <td>Male</td>\n",
       "      <td>2174</td>\n",
       "      <td>0</td>\n",
       "      <td>40</td>\n",
       "      <td>United-States</td>\n",
       "      <td>&lt;=50K</td>\n",
       "    </tr>\n",
       "    <tr>\n",
       "      <th>1</th>\n",
       "      <td>50</td>\n",
       "      <td>Self-emp-not-inc</td>\n",
       "      <td>83311</td>\n",
       "      <td>Bachelors</td>\n",
       "      <td>13</td>\n",
       "      <td>Married-civ-spouse</td>\n",
       "      <td>Exec-managerial</td>\n",
       "      <td>Husband</td>\n",
       "      <td>White</td>\n",
       "      <td>Male</td>\n",
       "      <td>0</td>\n",
       "      <td>0</td>\n",
       "      <td>13</td>\n",
       "      <td>United-States</td>\n",
       "      <td>&lt;=50K</td>\n",
       "    </tr>\n",
       "    <tr>\n",
       "      <th>2</th>\n",
       "      <td>38</td>\n",
       "      <td>Private</td>\n",
       "      <td>215646</td>\n",
       "      <td>HS-grad</td>\n",
       "      <td>9</td>\n",
       "      <td>Divorced</td>\n",
       "      <td>Handlers-cleaners</td>\n",
       "      <td>Not-in-family</td>\n",
       "      <td>White</td>\n",
       "      <td>Male</td>\n",
       "      <td>0</td>\n",
       "      <td>0</td>\n",
       "      <td>40</td>\n",
       "      <td>United-States</td>\n",
       "      <td>&lt;=50K</td>\n",
       "    </tr>\n",
       "    <tr>\n",
       "      <th>3</th>\n",
       "      <td>53</td>\n",
       "      <td>Private</td>\n",
       "      <td>234721</td>\n",
       "      <td>11th</td>\n",
       "      <td>7</td>\n",
       "      <td>Married-civ-spouse</td>\n",
       "      <td>Handlers-cleaners</td>\n",
       "      <td>Husband</td>\n",
       "      <td>Black</td>\n",
       "      <td>Male</td>\n",
       "      <td>0</td>\n",
       "      <td>0</td>\n",
       "      <td>40</td>\n",
       "      <td>United-States</td>\n",
       "      <td>&lt;=50K</td>\n",
       "    </tr>\n",
       "    <tr>\n",
       "      <th>4</th>\n",
       "      <td>28</td>\n",
       "      <td>Private</td>\n",
       "      <td>338409</td>\n",
       "      <td>Bachelors</td>\n",
       "      <td>13</td>\n",
       "      <td>Married-civ-spouse</td>\n",
       "      <td>Prof-specialty</td>\n",
       "      <td>Wife</td>\n",
       "      <td>Black</td>\n",
       "      <td>Female</td>\n",
       "      <td>0</td>\n",
       "      <td>0</td>\n",
       "      <td>40</td>\n",
       "      <td>Cuba</td>\n",
       "      <td>&lt;=50K</td>\n",
       "    </tr>\n",
       "  </tbody>\n",
       "</table>\n",
       "</div>"
      ],
      "text/plain": [
       "   age          workclass  fnlwgt   education  education-num  \\\n",
       "0   39          State-gov   77516   Bachelors             13   \n",
       "1   50   Self-emp-not-inc   83311   Bachelors             13   \n",
       "2   38            Private  215646     HS-grad              9   \n",
       "3   53            Private  234721        11th              7   \n",
       "4   28            Private  338409   Bachelors             13   \n",
       "\n",
       "        marital-status          occupation    relationship    race      sex  \\\n",
       "0        Never-married        Adm-clerical   Not-in-family   White     Male   \n",
       "1   Married-civ-spouse     Exec-managerial         Husband   White     Male   \n",
       "2             Divorced   Handlers-cleaners   Not-in-family   White     Male   \n",
       "3   Married-civ-spouse   Handlers-cleaners         Husband   Black     Male   \n",
       "4   Married-civ-spouse      Prof-specialty            Wife   Black   Female   \n",
       "\n",
       "   capital-gain  capital-loss  hours-per-week  native-country  salary  \n",
       "0          2174             0              40   United-States   <=50K  \n",
       "1             0             0              13   United-States   <=50K  \n",
       "2             0             0              40   United-States   <=50K  \n",
       "3             0             0              40   United-States   <=50K  \n",
       "4             0             0              40            Cuba   <=50K  "
      ]
     },
     "execution_count": 3,
     "metadata": {},
     "output_type": "execute_result"
    }
   ],
   "source": [
    "# Clean the dataset by dropping rows with ? as imputing them wouldn't result in a meaningful data set\n",
    "clean_df = df.replace(' ?', np.NaN).dropna()\n",
    "clean_df.head()"
   ]
  },
  {
   "cell_type": "markdown",
   "metadata": {},
   "source": [
    "#### Finding correlation between factors influencing salary"
   ]
  },
  {
   "cell_type": "code",
   "execution_count": 4,
   "metadata": {},
   "outputs": [
    {
     "data": {
      "text/plain": [
       "Index(['age', 'workclass', 'fnlwgt', 'education', 'education-num',\n",
       "       'marital-status', 'occupation', 'relationship', 'race', 'sex',\n",
       "       'capital-gain', 'capital-loss', 'hours-per-week', 'native-country',\n",
       "       'salary'],\n",
       "      dtype='object')"
      ]
     },
     "execution_count": 4,
     "metadata": {},
     "output_type": "execute_result"
    }
   ],
   "source": [
    "# Find number of people with salary >50K(0) and <50K(1)\n",
    "log_df = clean_df.copy()\n",
    "log_df.loc[clean_df.salary.str.strip() == \"<=50K\", 'salary'] = 0\n",
    "log_df.loc[clean_df.salary.str.strip() == \">50K\", 'salary'] = 1\n",
    "log_df['salary'].value_counts()\n",
    "log_df.columns"
   ]
  },
  {
   "cell_type": "code",
   "execution_count": 5,
   "metadata": {},
   "outputs": [
    {
     "data": {
      "image/png": "[encoded data removed]",
      "text/plain": [
       "<Figure size 432x288 with 1 Axes>"
      ]
     },
     "metadata": {},
     "output_type": "display_data"
    }
   ],
   "source": [
    "# Pie chart of the number of people with salary >50K and <50K\n",
    "plt.pie(log_df.salary.value_counts(), labels=['<=50K', '>50K'], autopct='%1.1f%%', startangle=90, colors=['gold','green'], radius=1.2, textprops={'fontsize': '10'}, wedgeprops={'linewidth': 1, 'edgecolor': 'black'})\n",
    "plt.title('Percentage of people with salary >50K and <50K in the dataset')\n",
    "plt.show()"
   ]
  },
  {
   "cell_type": "code",
   "execution_count": 6,
   "metadata": {},
   "outputs": [
    {
     "data": {
      "image/png": "[encoded data removed]",
      "text/plain": [
       "<Figure size 432x288 with 1 Axes>"
      ]
     },
     "metadata": {
      "needs_background": "light"
     },
     "output_type": "display_data"
    },
    {
     "data": {
      "text/plain": [
       "<Figure size 432x288 with 0 Axes>"
      ]
     },
     "metadata": {},
     "output_type": "display_data"
    }
   ],
   "source": [
    "# Count of  number of people with salary >50K and <50K in the dataset\n",
    "sns.countplot(x='salary', data=log_df, palette='dark')\n",
    "plt.show()\n",
    "plt.savefig('count_plot')"
   ]
  },
  {
   "cell_type": "code",
   "execution_count": 7,
   "metadata": {},
   "outputs": [
    {
     "name": "stdout",
     "output_type": "stream",
     "text": [
      "Percentage below 50k:  75.10775147536636\n",
      "Percentage weight below 50k:  75.32335207448135\n"
     ]
    }
   ],
   "source": [
    "#Weight Analysis\n",
    "below = log_df[log_df['salary'] == 0]\n",
    "above = log_df[log_df['salary'] == 1]\n",
    "\n",
    "countbelow = below.shape[0]\n",
    "countabove = above.shape[0]\n",
    "print(\"Percentage below 50k: \", (countbelow/(countbelow + countabove))*100)\n",
    "\n",
    "sumweightbelow = below['fnlwgt'].sum()\n",
    "sumweightabove = above['fnlwgt'].sum()\n",
    "print(\"Percentage weight below 50k: \", (sumweightbelow/(sumweightbelow + sumweightabove))*100)\n"
   ]
  },
  {
   "cell_type": "markdown",
   "metadata": {},
   "source": [
    "Calculate the mean of the numerical variables based on the salary categories - 0 is <=50k and 1 is >50k. We can see that the average \"age\" is about 36 and 44 respectively and are close enough similar to other attributes except for \"capital-gain\" and \"capital-loss\". So, these two attributes could have more impact on the \"salary\" dependent variable. Rest of the numerical variables can be ignored."
   ]
  },
  {
   "cell_type": "code",
   "execution_count": 8,
   "metadata": {},
   "outputs": [
    {
     "data": {
      "text/html": [
       "<div>\n",
       "<style scoped>\n",
       "    .dataframe tbody tr th:only-of-type {\n",
       "        vertical-align: middle;\n",
       "    }\n",
       "\n",
       "    .dataframe tbody tr th {\n",
       "        vertical-align: top;\n",
       "    }\n",
       "\n",
       "    .dataframe thead th {\n",
       "        text-align: right;\n",
       "    }\n",
       "</style>\n",
       "<table border=\"1\" class=\"dataframe\">\n",
       "  <thead>\n",
       "    <tr style=\"text-align: right;\">\n",
       "      <th></th>\n",
       "      <th>age</th>\n",
       "      <th>fnlwgt</th>\n",
       "      <th>education-num</th>\n",
       "      <th>capital-gain</th>\n",
       "      <th>capital-loss</th>\n",
       "      <th>hours-per-week</th>\n",
       "    </tr>\n",
       "    <tr>\n",
       "      <th>salary</th>\n",
       "      <th></th>\n",
       "      <th></th>\n",
       "      <th></th>\n",
       "      <th></th>\n",
       "      <th></th>\n",
       "      <th></th>\n",
       "    </tr>\n",
       "  </thead>\n",
       "  <tbody>\n",
       "    <tr>\n",
       "      <th>0</th>\n",
       "      <td>36.60806</td>\n",
       "      <td>190338.646729</td>\n",
       "      <td>9.629116</td>\n",
       "      <td>148.893838</td>\n",
       "      <td>53.448000</td>\n",
       "      <td>39.348592</td>\n",
       "    </tr>\n",
       "    <tr>\n",
       "      <th>1</th>\n",
       "      <td>43.95911</td>\n",
       "      <td>188149.962174</td>\n",
       "      <td>11.606420</td>\n",
       "      <td>3937.679808</td>\n",
       "      <td>193.750666</td>\n",
       "      <td>45.706580</td>\n",
       "    </tr>\n",
       "  </tbody>\n",
       "</table>\n",
       "</div>"
      ],
      "text/plain": [
       "             age         fnlwgt  education-num  capital-gain  capital-loss  \\\n",
       "salary                                                                       \n",
       "0       36.60806  190338.646729       9.629116    148.893838     53.448000   \n",
       "1       43.95911  188149.962174      11.606420   3937.679808    193.750666   \n",
       "\n",
       "        hours-per-week  \n",
       "salary                  \n",
       "0            39.348592  \n",
       "1            45.706580  "
      ]
     },
     "execution_count": 8,
     "metadata": {},
     "output_type": "execute_result"
    }
   ],
   "source": [
    "log_df.groupby('salary').mean()"
   ]
  },
  {
   "cell_type": "markdown",
   "metadata": {},
   "source": [
    "Now let's perform the analysis on the categorical variables"
   ]
  },
  {
   "cell_type": "code",
   "execution_count": 17,
   "metadata": {},
   "outputs": [
    {
     "data": {
      "text/plain": [
       "<matplotlib.legend.Legend at 0x17780a9aee0>"
      ]
     },
     "execution_count": 17,
     "metadata": {},
     "output_type": "execute_result"
    },
    {
     "data": {
      "image/png": "[encoded data removed]",
      "text/plain": [
       "<Figure size 1440x360 with 1 Axes>"
      ]
     },
     "metadata": {
      "needs_background": "light"
     },
     "output_type": "display_data"
    }
   ],
   "source": [
    "#Age Analysis: It is clearly seen from the diagrame below that age has a greater influence on the salary.\n",
    "fig = plt.figure(figsize=(20,5))\n",
    "ax_age = sns.countplot(data=log_df, x='age', hue='salary')\n",
    "ax_age.set_title(\"Income distribution by Age (by income group)\", loc='center', fontsize=16)\n",
    "ax_age.set_xlabel(\"Age\")\n",
    "ax_age.set_ylabel(\" \")\n",
    "ax_age.legend(loc=\"upper right\") "
   ]
  },
  {
   "cell_type": "code",
   "execution_count": 18,
   "metadata": {},
   "outputs": [
    {
     "data": {
      "text/html": [
       "<div>\n",
       "<style scoped>\n",
       "    .dataframe tbody tr th:only-of-type {\n",
       "        vertical-align: middle;\n",
       "    }\n",
       "\n",
       "    .dataframe tbody tr th {\n",
       "        vertical-align: top;\n",
       "    }\n",
       "\n",
       "    .dataframe thead th {\n",
       "        text-align: right;\n",
       "    }\n",
       "</style>\n",
       "<table border=\"1\" class=\"dataframe\">\n",
       "  <thead>\n",
       "    <tr style=\"text-align: right;\">\n",
       "      <th></th>\n",
       "      <th>age</th>\n",
       "      <th>fnlwgt</th>\n",
       "      <th>education-num</th>\n",
       "      <th>capital-gain</th>\n",
       "      <th>capital-loss</th>\n",
       "      <th>hours-per-week</th>\n",
       "    </tr>\n",
       "    <tr>\n",
       "      <th>sex</th>\n",
       "      <th></th>\n",
       "      <th></th>\n",
       "      <th></th>\n",
       "      <th></th>\n",
       "      <th></th>\n",
       "      <th></th>\n",
       "    </tr>\n",
       "  </thead>\n",
       "  <tbody>\n",
       "    <tr>\n",
       "      <th>Female</th>\n",
       "      <td>36.883459</td>\n",
       "      <td>185926.150480</td>\n",
       "      <td>10.098651</td>\n",
       "      <td>570.176753</td>\n",
       "      <td>60.938765</td>\n",
       "      <td>36.932222</td>\n",
       "    </tr>\n",
       "    <tr>\n",
       "      <th>Male</th>\n",
       "      <td>39.184004</td>\n",
       "      <td>191650.246075</td>\n",
       "      <td>10.132188</td>\n",
       "      <td>1342.476546</td>\n",
       "      <td>101.540137</td>\n",
       "      <td>42.850687</td>\n",
       "    </tr>\n",
       "  </tbody>\n",
       "</table>\n",
       "</div>"
      ],
      "text/plain": [
       "               age         fnlwgt  education-num  capital-gain  capital-loss  \\\n",
       "sex                                                                            \n",
       " Female  36.883459  185926.150480      10.098651    570.176753     60.938765   \n",
       " Male    39.184004  191650.246075      10.132188   1342.476546    101.540137   \n",
       "\n",
       "         hours-per-week  \n",
       "sex                      \n",
       " Female       36.932222  \n",
       " Male         42.850687  "
      ]
     },
     "execution_count": 18,
     "metadata": {},
     "output_type": "execute_result"
    }
   ],
   "source": [
    "log_df.groupby('sex').mean()"
   ]
  },
  {
   "cell_type": "code",
   "execution_count": 19,
   "metadata": {},
   "outputs": [
    {
     "data": {
      "text/plain": [
       "Text(0.5, 1.0, 'Salary Range based on Sex')"
      ]
     },
     "execution_count": 19,
     "metadata": {},
     "output_type": "execute_result"
    },
    {
     "data": {
      "image/png": "[encoded data removed]",
      "text/plain": [
       "<Figure size 432x288 with 1 Axes>"
      ]
     },
     "metadata": {
      "needs_background": "light"
     },
     "output_type": "display_data"
    }
   ],
   "source": [
    "#Sex Analysis: It can be seen that sex has an important role in determining the salary, especially in males.\n",
    "pd.crosstab(log_df['sex'], log_df['salary']).plot(kind='bar')\n",
    "plt.xlabel('Sex')\n",
    "plt.ylabel('Count')\n",
    "plt.title('Salary Range based on Sex')"
   ]
  },
  {
   "cell_type": "code",
   "execution_count": 20,
   "metadata": {},
   "outputs": [
    {
     "name": "stdout",
     "output_type": "stream",
     "text": [
      "Male & Female Percentage with salary <=50k:  68.62 ,  88.63\n"
     ]
    }
   ],
   "source": [
    "#Compute the percentage of male and female earning below 50k.\n",
    "male_df = log_df[log_df['sex'] == ' Male']\n",
    "male_l50k_df = log_df[(log_df['sex'] == ' Male') & (log_df['salary'] == 0)]\n",
    "female_df = log_df[log_df['sex'] == ' Female']\n",
    "female_l50k_df = log_df[(log_df['sex'] == ' Female') & (log_df['salary'] == 0)]\n",
    "print(\"Male & Female Percentage with salary <=50k: \", round((male_l50k_df.shape[0]/male_df.shape[0])*100,2), \", \", round((female_l50k_df.shape[0]/female_df.shape[0])*100,2))"
   ]
  },
  {
   "cell_type": "code",
   "execution_count": 21,
   "metadata": {},
   "outputs": [
    {
     "data": {
      "text/plain": [
       "Text(0.5, 1.0, 'Salary Range based on Marital-Status')"
      ]
     },
     "execution_count": 21,
     "metadata": {},
     "output_type": "execute_result"
    },
    {
     "data": {
      "image/png": "[encoded data removed]",
      "text/plain": [
       "<Figure size 432x288 with 1 Axes>"
      ]
     },
     "metadata": {
      "needs_background": "light"
     },
     "output_type": "display_data"
    }
   ],
   "source": [
    "#Marital Status Analysis: This also seems to have a greater impact on the salary, especially of type \"Married-civ-spouse\".\n",
    "pd.crosstab(log_df['marital-status'], log_df['salary']).plot(kind='bar')\n",
    "plt.xlabel('Marital Status')\n",
    "plt.ylabel('Count')\n",
    "plt.title('Salary Range based on Marital-Status')"
   ]
  },
  {
   "cell_type": "code",
   "execution_count": 22,
   "metadata": {},
   "outputs": [
    {
     "name": "stdout",
     "output_type": "stream",
     "text": [
      "Percentage of Never-married people with salary <=50k:  95.17\n"
     ]
    }
   ],
   "source": [
    "#Calculate percent of \"Never-married\" people with salary <=50k.\n",
    "ms_df = log_df[log_df['marital-status'] == ' Never-married']\n",
    "ms_l50k_df = log_df[(log_df['marital-status'] == ' Never-married') & (log_df['salary'] == 0)]\n",
    "print(\"Percentage of Never-married people with salary <=50k: \", round(((ms_l50k_df.shape[0] / ms_df.shape[0] )*100),2))"
   ]
  },
  {
   "cell_type": "code",
   "execution_count": 23,
   "metadata": {},
   "outputs": [
    {
     "data": {
      "text/plain": [
       "Text(0.5, 1.0, 'Salary Range based on Work Class')"
      ]
     },
     "execution_count": 23,
     "metadata": {},
     "output_type": "execute_result"
    },
    {
     "data": {
      "image/png": "[encoded data removed]",
      "text/plain": [
       "<Figure size 432x288 with 1 Axes>"
      ]
     },
     "metadata": {
      "needs_background": "light"
     },
     "output_type": "display_data"
    }
   ],
   "source": [
    "#Work Class Analysis: This might not be an important attribute that would greatly impact the salary. \n",
    "pd.crosstab(log_df['workclass'], log_df['salary']).plot(kind='bar')\n",
    "plt.xlabel('Work Class')\n",
    "plt.ylabel(' ')\n",
    "plt.title('Salary Range based on Work Class', loc='center', fontsize=12)"
   ]
  },
  {
   "cell_type": "code",
   "execution_count": 24,
   "metadata": {},
   "outputs": [
    {
     "name": "stdout",
     "output_type": "stream",
     "text": [
      "Percentage of Private Company Employees with salary <=50k:  78.12\n"
     ]
    }
   ],
   "source": [
    "#Private work class seems to be in large number for salary <=50k. So, let's evaluate the percentage.\n",
    "countAll  = log_df[log_df['workclass'] == \" Private\"].shape[0]\n",
    "countPrivate = log_df[(log_df['workclass'] == \" Private\") & (log_df['salary'] == 0)].shape[0]\n",
    "print(\"Percentage of Private Company Employees with salary <=50k: \", round(((countPrivate / countAll )*100),2))"
   ]
  },
  {
   "cell_type": "code",
   "execution_count": 25,
   "metadata": {},
   "outputs": [
    {
     "data": {
      "text/plain": [
       "Text(0.5, 1.0, 'Salary Range based on Education')"
      ]
     },
     "execution_count": 25,
     "metadata": {},
     "output_type": "execute_result"
    },
    {
     "data": {
      "image/png": "[encoded data removed]",
      "text/plain": [
       "<Figure size 432x288 with 1 Axes>"
      ]
     },
     "metadata": {
      "needs_background": "light"
     },
     "output_type": "display_data"
    }
   ],
   "source": [
    "#Education Analysis: It can be seen that higher the education level, greater the number of people earning a salary of >50k.\n",
    "pd.crosstab(log_df['education'], log_df['salary']).plot(kind='bar')\n",
    "plt.xlabel('Education')\n",
    "plt.ylabel('Count')\n",
    "plt.title('Salary Range based on Education')"
   ]
  },
  {
   "cell_type": "code",
   "execution_count": 26,
   "metadata": {},
   "outputs": [
    {
     "data": {
      "text/plain": [
       "Text(0.5, 1.0, 'Salary Range based on Occupation')"
      ]
     },
     "execution_count": 26,
     "metadata": {},
     "output_type": "execute_result"
    },
    {
     "data": {
      "image/png": "[encoded data removed]",
      "text/plain": [
       "<Figure size 432x288 with 1 Axes>"
      ]
     },
     "metadata": {
      "needs_background": "light"
     },
     "output_type": "display_data"
    }
   ],
   "source": [
    "#Occupation Analysis: This appears to have a good impact on the salary.\n",
    "pd.crosstab(log_df['occupation'], log_df['salary']).plot(kind='bar')\n",
    "plt.xlabel('Occupation')\n",
    "plt.ylabel('Count')\n",
    "plt.title('Salary Range based on Occupation')"
   ]
  },
  {
   "cell_type": "code",
   "execution_count": 27,
   "metadata": {},
   "outputs": [
    {
     "data": {
      "text/plain": [
       "Text(0.5, 1.0, 'Salary Range based on Relationship')"
      ]
     },
     "execution_count": 27,
     "metadata": {},
     "output_type": "execute_result"
    },
    {
     "data": {
      "image/png": "[encoded data removed]",
      "text/plain": [
       "<Figure size 432x288 with 1 Axes>"
      ]
     },
     "metadata": {
      "needs_background": "light"
     },
     "output_type": "display_data"
    }
   ],
   "source": [
    "#Relationship Analysis: This appears to have a good impact on the salary.\n",
    "pd.crosstab(log_df['relationship'], log_df['salary']).plot(kind='bar')\n",
    "plt.xlabel('Relationship')\n",
    "plt.ylabel('Count')\n",
    "plt.title('Salary Range based on Relationship')"
   ]
  },
  {
   "cell_type": "code",
   "execution_count": 28,
   "metadata": {},
   "outputs": [
    {
     "data": {
      "text/plain": [
       "Text(0.5, 1.0, 'Salary Range based on Race')"
      ]
     },
     "execution_count": 28,
     "metadata": {},
     "output_type": "execute_result"
    },
    {
     "data": {
      "image/png": "[encoded data removed]",
      "text/plain": [
       "<Figure size 432x288 with 1 Axes>"
      ]
     },
     "metadata": {
      "needs_background": "light"
     },
     "output_type": "display_data"
    }
   ],
   "source": [
    "#Race Analysis: This appears to have greater impact on the salary\n",
    "pd.crosstab(log_df['race'], log_df['salary']).plot(kind='bar')\n",
    "plt.xlabel('Race')\n",
    "plt.ylabel('Count')\n",
    "plt.title('Salary Range based on Race')"
   ]
  },
  {
   "cell_type": "code",
   "execution_count": 29,
   "metadata": {},
   "outputs": [
    {
     "data": {
      "text/plain": [
       "Text(0.5, 1.0, 'Salary Range based on Native Country')"
      ]
     },
     "execution_count": 29,
     "metadata": {},
     "output_type": "execute_result"
    },
    {
     "data": {
      "image/png": "[encoded data removed]",
      "text/plain": [
       "<Figure size 432x288 with 1 Axes>"
      ]
     },
     "metadata": {
      "needs_background": "light"
     },
     "output_type": "display_data"
    }
   ],
   "source": [
    "#Native Country Analysis: This doesn't appear to have a clear info of the impact on the salary.\n",
    "pd.crosstab(log_df['native-country'], log_df['salary']).plot(kind='bar')\n",
    "plt.xlabel('Native Country')\n",
    "plt.ylabel('Count')\n",
    "plt.title('Salary Range based on Native Country')"
   ]
  },
  {
   "cell_type": "code",
   "execution_count": 30,
   "metadata": {},
   "outputs": [],
   "source": [
    "#Based on the above analysis, we can consider the following variable of the dataset for building the model.\n",
    "#cols = ['age','fnlwgt','education-num','capital-gain','capital-loss','hours-per-week']\n",
    "cols = ['age', 'education', 'marital-status', 'occupation', 'relationship','race', 'sex', 'capital-gain', 'capital-loss']"
   ]
  },
  {
   "cell_type": "code",
   "execution_count": 31,
   "metadata": {},
   "outputs": [
    {
     "name": "stdout",
     "output_type": "stream",
     "text": [
      "Pearson Correlation: \n",
      "                     age    fnlwgt  education-num  capital-gain  capital-loss  \\\n",
      "age             1.000000 -0.076511       0.043526      0.080154      0.060165   \n",
      "fnlwgt         -0.076511  1.000000      -0.044992      0.000422     -0.009750   \n",
      "education-num   0.043526 -0.044992       1.000000      0.124416      0.079646   \n",
      "capital-gain    0.080154  0.000422       0.124416      1.000000     -0.032229   \n",
      "capital-loss    0.060165 -0.009750       0.079646     -0.032229      1.000000   \n",
      "hours-per-week  0.101599 -0.022886       0.152522      0.080432      0.052417   \n",
      "\n",
      "                hours-per-week  \n",
      "age                   0.101599  \n",
      "fnlwgt               -0.022886  \n",
      "education-num         0.152522  \n",
      "capital-gain          0.080432  \n",
      "capital-loss          0.052417  \n",
      "hours-per-week        1.000000  \n"
     ]
    }
   ],
   "source": [
    "print(\"Pearson Correlation: \")\n",
    "print(log_df.corr(method='pearson'))"
   ]
  },
  {
   "cell_type": "markdown",
   "metadata": {},
   "source": [
    "Now that the dependent variables are determined, a logistic regression model can be built on the training dataset and the salary category (<=50k and >50k) can be predicted. Model accuracy can also be determined utilizing the confusion matrix."
   ]
  },
  {
   "cell_type": "code",
   "execution_count": 38,
   "metadata": {},
   "outputs": [
    {
     "name": "stderr",
     "output_type": "stream",
     "text": [
      "c:\\Users\\vasan\\anaconda3\\lib\\site-packages\\sklearn\\linear_model\\_logistic.py:444: ConvergenceWarning: lbfgs failed to converge (status=1):\n",
      "STOP: TOTAL NO. of ITERATIONS REACHED LIMIT.\n",
      "\n",
      "Increase the number of iterations (max_iter) or scale the data as shown in:\n",
      "    https://scikit-learn.org/stable/modules/preprocessing.html\n",
      "Please also refer to the documentation for alternative solver options:\n",
      "    https://scikit-learn.org/stable/modules/linear_model.html#logistic-regression\n",
      "  n_iter_i = _check_optimize_result(\n"
     ]
    },
    {
     "data": {
      "text/plain": [
       "array([0, 0, 0, ..., 0, 0, 0])"
      ]
     },
     "execution_count": 38,
     "metadata": {},
     "output_type": "execute_result"
    }
   ],
   "source": [
    "X = log_df[cols]\n",
    "X_dummies = pd.get_dummies(X)\n",
    "y = log_df['salary']\n",
    "\n",
    "X_train, X_test, y_train, y_test = train_test_split(X_dummies, y, test_size=0.3, random_state=0)\n",
    "\n",
    "logreg = LogisticRegression()\n",
    "y1 = y_train.to_numpy().astype(int)\n",
    "logreg.fit(X_train.to_numpy(), y1)\n",
    "y_pred=logreg.predict(X_test.to_numpy())\n",
    "y_pred\n",
    "#import statsmodels.api as sm\n",
    "#logit_model=sm.Logit(y1,X_train.to_numpy())\n",
    "#result=logit_model.fit()\n",
    "#print(result.summary2())\n"
   ]
  },
  {
   "cell_type": "code",
   "execution_count": 39,
   "metadata": {},
   "outputs": [
    {
     "name": "stdout",
     "output_type": "stream",
     "text": [
      "Pearson Correlation: \n",
      "                                            age  capital-gain  capital-loss  \\\n",
      "age                                    1.000000      0.080154      0.060165   \n",
      "capital-gain                           0.080154      1.000000     -0.032229   \n",
      "capital-loss                           0.060165     -0.032229      1.000000   \n",
      "education_ 10th                       -0.006877     -0.015712     -0.010794   \n",
      "education_ 11th                       -0.087744     -0.022410     -0.016816   \n",
      "education_ 12th                       -0.055031     -0.012555     -0.015439   \n",
      "education_ 1st-4th                     0.033400     -0.009367     -0.006071   \n",
      "education_ 5th-6th                     0.024007     -0.012223     -0.004092   \n",
      "education_ 7th-8th                     0.096015     -0.015692     -0.007512   \n",
      "education_ 9th                         0.017577     -0.012327     -0.018181   \n",
      "education_ Assoc-acdm                 -0.016297     -0.013484      0.002762   \n",
      "education_ Assoc-voc                  -0.003104     -0.010192     -0.009567   \n",
      "education_ Bachelors                   0.006948      0.038907      0.032800   \n",
      "education_ Doctorate                   0.074259      0.059680      0.049082   \n",
      "education_ HS-grad                     0.010758     -0.047224     -0.030262   \n",
      "education_ Masters                     0.096392      0.047148      0.049306   \n",
      "education_ Preschool                   0.008390     -0.000385     -0.001245   \n",
      "education_ Prof-school                 0.059849      0.176064      0.048884   \n",
      "education_ Some-college               -0.093483     -0.036125     -0.021724   \n",
      "marital-status_ Divorced               0.136130     -0.018438     -0.021900   \n",
      "marital-status_ Married-AF-spouse     -0.015617     -0.002653     -0.005770   \n",
      "marital-status_ Married-civ-spouse     0.308327      0.084317      0.081367   \n",
      "marital-status_ Married-spouse-absent  0.015822     -0.006542     -0.010587   \n",
      "marital-status_ Never-married         -0.524003     -0.065965     -0.061758   \n",
      "marital-status_ Separated              0.013093     -0.012539     -0.012003   \n",
      "marital-status_ Widowed                0.246887     -0.011448     -0.004469   \n",
      "occupation_ Adm-clerical              -0.040938     -0.030133     -0.026338   \n",
      "occupation_ Armed-Forces              -0.010807     -0.002547      0.005183   \n",
      "occupation_ Craft-repair               0.016109     -0.023035     -0.001808   \n",
      "occupation_ Exec-managerial            0.111367      0.057656      0.049125   \n",
      "occupation_ Farming-fishing            0.039446     -0.012413     -0.011376   \n",
      "occupation_ Handlers-cleaners         -0.104207     -0.024371     -0.023640   \n",
      "occupation_ Machine-op-inspct         -0.014960     -0.027388     -0.019494   \n",
      "occupation_ Other-service             -0.092834     -0.042432     -0.043975   \n",
      "occupation_ Priv-house-serv            0.018902     -0.007459     -0.011271   \n",
      "occupation_ Prof-specialty             0.060613      0.086308      0.046740   \n",
      "occupation_ Protective-serv            0.005483     -0.007547     -0.003445   \n",
      "occupation_ Sales                     -0.029319      0.010741      0.009781   \n",
      "occupation_ Tech-support              -0.018476     -0.010107      0.004341   \n",
      "occupation_ Transport-moving           0.032397     -0.018803     -0.003246   \n",
      "relationship_ Husband                  0.306718      0.079597      0.077146   \n",
      "relationship_ Not-in-family           -0.024017     -0.026561     -0.018357   \n",
      "relationship_ Other-relative          -0.069314     -0.020173     -0.014510   \n",
      "relationship_ Own-child               -0.420621     -0.052350     -0.050834   \n",
      "relationship_ Unmarried                0.049880     -0.028796     -0.040925   \n",
      "relationship_ Wife                     0.024574      0.015593      0.014981   \n",
      "race_ Amer-Indian-Eskimo              -0.012665     -0.005703     -0.012393   \n",
      "race_ Asian-Pac-Islander              -0.007020      0.005014      0.001432   \n",
      "race_ Black                           -0.014101     -0.021117     -0.025488   \n",
      "race_ Other                           -0.032347     -0.000372     -0.008274   \n",
      "race_ White                            0.026906      0.016933      0.026197   \n",
      "sex_ Female                           -0.081993     -0.048814     -0.047011   \n",
      "sex_ Male                              0.081993      0.048814      0.047011   \n",
      "\n",
      "                                       education_ 10th  education_ 11th  \\\n",
      "age                                          -0.006877        -0.087744   \n",
      "capital-gain                                 -0.015712        -0.022410   \n",
      "capital-loss                                 -0.010794        -0.016816   \n",
      "education_ 10th                               1.000000        -0.031717   \n",
      "education_ 11th                              -0.031717         1.000000   \n",
      "education_ 12th                              -0.018808        -0.021345   \n",
      "education_ 1st-4th                           -0.011858        -0.013458   \n",
      "education_ 5th-6th                           -0.016414        -0.018629   \n",
      "education_ 7th-8th                           -0.022930        -0.026024   \n",
      "education_ 9th                               -0.020689        -0.023480   \n",
      "education_ Assoc-acdm                        -0.031084        -0.035279   \n",
      "education_ Assoc-voc                         -0.035579        -0.040379   \n",
      "education_ Bachelors                         -0.074913        -0.085021   \n",
      "education_ Doctorate                         -0.018757        -0.021288   \n",
      "education_ HS-grad                           -0.116326        -0.132021   \n",
      "education_ Masters                           -0.039918        -0.045304   \n",
      "education_ Preschool                         -0.006462        -0.007334   \n",
      "education_ Prof-school                       -0.022614        -0.025665   \n",
      "education_ Some-college                      -0.089145        -0.101174   \n",
      "marital-status_ Divorced                     -0.005036        -0.014318   \n",
      "marital-status_ Married-AF-spouse            -0.004413        -0.005008   \n",
      "marital-status_ Married-civ-spouse           -0.022631        -0.058680   \n",
      "marital-status_ Married-spouse-absent         0.009151         0.005171   \n",
      "marital-status_ Never-married                 0.015084         0.067030   \n",
      "marital-status_ Separated                     0.015814         0.010814   \n",
      "marital-status_ Widowed                       0.014378         0.003620   \n",
      "occupation_ Adm-clerical                     -0.039155        -0.034290   \n",
      "occupation_ Armed-Forces                     -0.002888        -0.003278   \n",
      "occupation_ Craft-repair                      0.032020         0.017546   \n",
      "occupation_ Exec-managerial                  -0.050853        -0.056471   \n",
      "occupation_ Farming-fishing                   0.018445         0.002680   \n",
      "occupation_ Handlers-cleaners                 0.033816         0.065747   \n",
      "occupation_ Machine-op-inspct                 0.039272         0.022508   \n",
      "occupation_ Other-service                     0.069843         0.074182   \n",
      "occupation_ Priv-house-serv                   0.006269         0.023802   \n",
      "occupation_ Prof-specialty                   -0.060336        -0.063959   \n",
      "occupation_ Protective-serv                  -0.016230        -0.019257   \n",
      "occupation_ Sales                            -0.010986         0.008656   \n",
      "occupation_ Tech-support                     -0.025947        -0.027158   \n",
      "occupation_ Transport-moving                  0.036930         0.030446   \n",
      "relationship_ Husband                        -0.017731        -0.052220   \n",
      "relationship_ Not-in-family                  -0.011696        -0.034194   \n",
      "relationship_ Other-relative                  0.015466         0.022597   \n",
      "relationship_ Own-child                       0.031332         0.108992   \n",
      "relationship_ Unmarried                       0.009700         0.007863   \n",
      "relationship_ Wife                           -0.013756        -0.020484   \n",
      "race_ Amer-Indian-Eskimo                      0.013094         0.005721   \n",
      "race_ Asian-Pac-Islander                     -0.016018        -0.013974   \n",
      "race_ Black                                   0.029717         0.018740   \n",
      "race_ Other                                   0.004022        -0.002131   \n",
      "race_ White                                  -0.021742        -0.009938   \n",
      "sex_ Female                                  -0.006941         0.012034   \n",
      "sex_ Male                                     0.006941        -0.012034   \n",
      "\n",
      "                                       education_ 12th  education_ 1st-4th  \\\n",
      "age                                          -0.055031            0.033400   \n",
      "capital-gain                                 -0.012555           -0.009367   \n",
      "capital-loss                                 -0.015439           -0.006071   \n",
      "education_ 10th                              -0.018808           -0.011858   \n",
      "education_ 11th                              -0.021345           -0.013458   \n",
      "education_ 12th                               1.000000           -0.007980   \n",
      "education_ 1st-4th                           -0.007980            1.000000   \n",
      "education_ 5th-6th                           -0.011046           -0.006965   \n",
      "education_ 7th-8th                           -0.015432           -0.009730   \n",
      "education_ 9th                               -0.013923           -0.008779   \n",
      "education_ Assoc-acdm                        -0.020920           -0.013190   \n",
      "education_ Assoc-voc                         -0.023944           -0.015096   \n",
      "education_ Bachelors                         -0.050416           -0.031787   \n",
      "education_ Doctorate                         -0.012623           -0.007959   \n",
      "education_ HS-grad                           -0.078286           -0.049359   \n",
      "education_ Masters                           -0.026864           -0.016938   \n",
      "education_ Preschool                         -0.004349           -0.002742   \n",
      "education_ Prof-school                       -0.015219           -0.009595   \n",
      "education_ Some-college                      -0.059994           -0.037826   \n",
      "marital-status_ Divorced                     -0.014350           -0.017746   \n",
      "marital-status_ Married-AF-spouse            -0.002970           -0.001872   \n",
      "marital-status_ Married-civ-spouse           -0.037568            0.002435   \n",
      "marital-status_ Married-spouse-absent         0.006440            0.034771   \n",
      "marital-status_ Never-married                 0.051352           -0.011750   \n",
      "marital-status_ Separated                    -0.002984            0.006219   \n",
      "marital-status_ Widowed                      -0.002443            0.034116   \n",
      "occupation_ Adm-clerical                     -0.009537           -0.026610   \n",
      "occupation_ Armed-Forces                      0.015335           -0.001225   \n",
      "occupation_ Craft-repair                      0.004060            0.003900   \n",
      "occupation_ Exec-managerial                  -0.032492           -0.023545   \n",
      "occupation_ Farming-fishing                   0.006097            0.034420   \n",
      "occupation_ Handlers-cleaners                 0.029047            0.020995   \n",
      "occupation_ Machine-op-inspct                 0.011396            0.025039   \n",
      "occupation_ Other-service                     0.041457            0.033381   \n",
      "occupation_ Priv-house-serv                   0.009612            0.070329   \n",
      "occupation_ Prof-specialty                   -0.036345           -0.022370   \n",
      "occupation_ Protective-serv                  -0.006295           -0.007228   \n",
      "occupation_ Sales                            -0.000735           -0.015886   \n",
      "occupation_ Tech-support                     -0.014638           -0.012525   \n",
      "occupation_ Transport-moving                  0.023296           -0.001839   \n",
      "relationship_ Husband                        -0.038652           -0.000375   \n",
      "relationship_ Not-in-family                  -0.009960            0.005727   \n",
      "relationship_ Other-relative                  0.012154            0.032078   \n",
      "relationship_ Own-child                       0.069049           -0.018991   \n",
      "relationship_ Unmarried                      -0.005947            0.001401   \n",
      "relationship_ Wife                           -0.006475           -0.006771   \n",
      "race_ Amer-Indian-Eskimo                      0.004389            0.007601   \n",
      "race_ Asian-Pac-Islander                     -0.012639           -0.004099   \n",
      "race_ Black                                   0.016193           -0.001780   \n",
      "race_ Other                                   0.027771            0.042265   \n",
      "race_ White                                  -0.015592           -0.009239   \n",
      "sex_ Female                                  -0.000170           -0.005992   \n",
      "sex_ Male                                     0.000170            0.005992   \n",
      "\n",
      "                                       education_ 5th-6th  education_ 7th-8th  \\\n",
      "age                                              0.024007            0.096015   \n",
      "capital-gain                                    -0.012223           -0.015692   \n",
      "capital-loss                                    -0.004092           -0.007512   \n",
      "education_ 10th                                 -0.016414           -0.022930   \n",
      "education_ 11th                                 -0.018629           -0.026024   \n",
      "education_ 12th                                 -0.011046           -0.015432   \n",
      "education_ 1st-4th                              -0.006965           -0.009730   \n",
      "education_ 5th-6th                               1.000000           -0.013468   \n",
      "education_ 7th-8th                              -0.013468            1.000000   \n",
      "education_ 9th                                  -0.012151           -0.016975   \n",
      "education_ Assoc-acdm                           -0.018257           -0.025505   \n",
      "education_ Assoc-voc                            -0.020897           -0.029193   \n",
      "education_ Bachelors                            -0.043999           -0.061467   \n",
      "education_ Doctorate                            -0.011017           -0.015390   \n",
      "education_ HS-grad                              -0.068323           -0.095446   \n",
      "education_ Masters                              -0.023445           -0.032753   \n",
      "education_ Preschool                            -0.003795           -0.005302   \n",
      "education_ Prof-school                          -0.013282           -0.018555   \n",
      "education_ Some-college                         -0.052358           -0.073145   \n",
      "marital-status_ Divorced                        -0.021867           -0.011237   \n",
      "marital-status_ Married-AF-spouse               -0.002592           -0.003621   \n",
      "marital-status_ Married-civ-spouse               0.005263            0.028760   \n",
      "marital-status_ Married-spouse-absent            0.051002            0.013797   \n",
      "marital-status_ Never-married                   -0.007927           -0.041942   \n",
      "marital-status_ Separated                        0.017734           -0.000483   \n",
      "marital-status_ Widowed                          0.000216            0.047846   \n",
      "occupation_ Adm-clerical                        -0.030613           -0.043219   \n",
      "occupation_ Armed-Forces                        -0.001696           -0.002370   \n",
      "occupation_ Craft-repair                         0.002525            0.026475   \n",
      "occupation_ Exec-managerial                     -0.037342           -0.040492   \n",
      "occupation_ Farming-fishing                      0.050839            0.070158   \n",
      "occupation_ Handlers-cleaners                    0.043049            0.025093   \n",
      "occupation_ Machine-op-inspct                    0.043129            0.055561   \n",
      "occupation_ Other-service                        0.032417            0.025294   \n",
      "occupation_ Priv-house-serv                      0.062706            0.019213   \n",
      "occupation_ Prof-specialty                      -0.037601           -0.048142   \n",
      "occupation_ Protective-serv                     -0.012144           -0.004928   \n",
      "occupation_ Sales                               -0.024466           -0.028300   \n",
      "occupation_ Tech-support                        -0.015346           -0.017030   \n",
      "occupation_ Transport-moving                     0.018391            0.034313   \n",
      "relationship_ Husband                            0.003460            0.032930   \n",
      "relationship_ Not-in-family                     -0.009194           -0.020691   \n",
      "relationship_ Other-relative                     0.061503            0.019777   \n",
      "relationship_ Own-child                         -0.027495           -0.027369   \n",
      "relationship_ Unmarried                          0.010312            0.003740   \n",
      "relationship_ Wife                              -0.007156           -0.009304   \n",
      "race_ Amer-Indian-Eskimo                        -0.002571            0.004367   \n",
      "race_ Asian-Pac-Islander                         0.012967           -0.009474   \n",
      "race_ Black                                     -0.010425           -0.002557   \n",
      "race_ Other                                      0.034392            0.030321   \n",
      "race_ White                                     -0.005518           -0.002059   \n",
      "sex_ Female                                     -0.017772           -0.025589   \n",
      "sex_ Male                                        0.017772            0.025589   \n",
      "\n",
      "                                       education_ 9th  ...  \\\n",
      "age                                          0.017577  ...   \n",
      "capital-gain                                -0.012327  ...   \n",
      "capital-loss                                -0.018181  ...   \n",
      "education_ 10th                             -0.020689  ...   \n",
      "education_ 11th                             -0.023480  ...   \n",
      "education_ 12th                             -0.013923  ...   \n",
      "education_ 1st-4th                          -0.008779  ...   \n",
      "education_ 5th-6th                          -0.012151  ...   \n",
      "education_ 7th-8th                          -0.016975  ...   \n",
      "education_ 9th                               1.000000  ...   \n",
      "education_ Assoc-acdm                       -0.023012  ...   \n",
      "education_ Assoc-voc                        -0.026339  ...   \n",
      "education_ Bachelors                        -0.055459  ...   \n",
      "education_ Doctorate                        -0.013886  ...   \n",
      "education_ HS-grad                          -0.086117  ...   \n",
      "education_ Masters                          -0.029552  ...   \n",
      "education_ Preschool                        -0.004784  ...   \n",
      "education_ Prof-school                      -0.016741  ...   \n",
      "education_ Some-college                     -0.065995  ...   \n",
      "marital-status_ Divorced                    -0.009077  ...   \n",
      "marital-status_ Married-AF-spouse           -0.003267  ...   \n",
      "marital-status_ Married-civ-spouse           0.000451  ...   \n",
      "marital-status_ Married-spouse-absent        0.008447  ...   \n",
      "marital-status_ Never-married               -0.005655  ...   \n",
      "marital-status_ Separated                    0.020101  ...   \n",
      "marital-status_ Widowed                      0.007536  ...   \n",
      "occupation_ Adm-clerical                    -0.034847  ...   \n",
      "occupation_ Armed-Forces                    -0.002138  ...   \n",
      "occupation_ Craft-repair                     0.025747  ...   \n",
      "occupation_ Exec-managerial                 -0.038704  ...   \n",
      "occupation_ Farming-fishing                  0.019979  ...   \n",
      "occupation_ Handlers-cleaners                0.037668  ...   \n",
      "occupation_ Machine-op-inspct                0.049963  ...   \n",
      "occupation_ Other-service                    0.043689  ...   \n",
      "occupation_ Priv-house-serv                  0.031055  ...   \n",
      "occupation_ Prof-specialty                  -0.046260  ...   \n",
      "occupation_ Protective-serv                 -0.010753  ...   \n",
      "occupation_ Sales                           -0.018548  ...   \n",
      "occupation_ Tech-support                    -0.018676  ...   \n",
      "occupation_ Transport-moving                 0.013811  ...   \n",
      "relationship_ Husband                       -0.000556  ...   \n",
      "relationship_ Not-in-family                 -0.014674  ...   \n",
      "relationship_ Other-relative                 0.025071  ...   \n",
      "relationship_ Own-child                     -0.000284  ...   \n",
      "relationship_ Unmarried                      0.010181  ...   \n",
      "relationship_ Wife                          -0.002851  ...   \n",
      "race_ Amer-Indian-Eskimo                    -0.003689  ...   \n",
      "race_ Asian-Pac-Islander                    -0.008818  ...   \n",
      "race_ Black                                  0.032253  ...   \n",
      "race_ Other                                  0.014088  ...   \n",
      "race_ White                                 -0.025229  ...   \n",
      "sex_ Female                                 -0.016597  ...   \n",
      "sex_ Male                                    0.016597  ...   \n",
      "\n",
      "                                       relationship_ Own-child  \\\n",
      "age                                                  -0.420621   \n",
      "capital-gain                                         -0.052350   \n",
      "capital-loss                                         -0.050834   \n",
      "education_ 10th                                       0.031332   \n",
      "education_ 11th                                       0.108992   \n",
      "education_ 12th                                       0.069049   \n",
      "education_ 1st-4th                                   -0.018991   \n",
      "education_ 5th-6th                                   -0.027495   \n",
      "education_ 7th-8th                                   -0.027369   \n",
      "education_ 9th                                       -0.000284   \n",
      "education_ Assoc-acdm                                -0.015193   \n",
      "education_ Assoc-voc                                 -0.027749   \n",
      "education_ Bachelors                                 -0.062748   \n",
      "education_ Doctorate                                 -0.040880   \n",
      "education_ HS-grad                                   -0.011943   \n",
      "education_ Masters                                   -0.076820   \n",
      "education_ Preschool                                 -0.001604   \n",
      "education_ Prof-school                               -0.047259   \n",
      "education_ Some-college                               0.097849   \n",
      "marital-status_ Divorced                             -0.085073   \n",
      "marital-status_ Married-AF-spouse                    -0.007465   \n",
      "marital-status_ Married-civ-spouse                   -0.374163   \n",
      "marital-status_ Married-spouse-absent                -0.009994   \n",
      "marital-status_ Never-married                         0.497062   \n",
      "marital-status_ Separated                            -0.026356   \n",
      "marital-status_ Widowed                              -0.063138   \n",
      "occupation_ Adm-clerical                              0.059622   \n",
      "occupation_ Armed-Forces                             -0.001798   \n",
      "occupation_ Craft-repair                             -0.060281   \n",
      "occupation_ Exec-managerial                          -0.098916   \n",
      "occupation_ Farming-fishing                           0.000294   \n",
      "occupation_ Handlers-cleaners                         0.098015   \n",
      "occupation_ Machine-op-inspct                        -0.012139   \n",
      "occupation_ Other-service                             0.122383   \n",
      "occupation_ Priv-house-serv                           0.001123   \n",
      "occupation_ Prof-specialty                           -0.078374   \n",
      "occupation_ Protective-serv                          -0.009916   \n",
      "occupation_ Sales                                     0.047983   \n",
      "occupation_ Tech-support                             -0.009833   \n",
      "occupation_ Transport-moving                         -0.028879   \n",
      "relationship_ Husband                                -0.349835   \n",
      "relationship_ Not-in-family                          -0.244642   \n",
      "relationship_ Other-relative                         -0.072651   \n",
      "relationship_ Own-child                               1.000000   \n",
      "relationship_ Unmarried                              -0.143925   \n",
      "relationship_ Wife                                   -0.092184   \n",
      "race_ Amer-Indian-Eskimo                              0.000629   \n",
      "race_ Asian-Pac-Islander                              0.006866   \n",
      "race_ Black                                           0.021460   \n",
      "race_ Other                                          -0.005572   \n",
      "race_ White                                          -0.020117   \n",
      "sex_ Female                                           0.102220   \n",
      "sex_ Male                                            -0.102220   \n",
      "\n",
      "                                       relationship_ Unmarried  \\\n",
      "age                                                   0.049880   \n",
      "capital-gain                                         -0.028796   \n",
      "capital-loss                                         -0.040925   \n",
      "education_ 10th                                       0.009700   \n",
      "education_ 11th                                       0.007863   \n",
      "education_ 12th                                      -0.005947   \n",
      "education_ 1st-4th                                    0.001401   \n",
      "education_ 5th-6th                                    0.010312   \n",
      "education_ 7th-8th                                    0.003740   \n",
      "education_ 9th                                        0.010181   \n",
      "education_ Assoc-acdm                                 0.013549   \n",
      "education_ Assoc-voc                                  0.017323   \n",
      "education_ Bachelors                                 -0.061964   \n",
      "education_ Doctorate                                 -0.017396   \n",
      "education_ HS-grad                                    0.041064   \n",
      "education_ Masters                                   -0.018680   \n",
      "education_ Preschool                                 -0.007775   \n",
      "education_ Prof-school                               -0.028091   \n",
      "education_ Some-college                               0.006950   \n",
      "marital-status_ Divorced                              0.336761   \n",
      "marital-status_ Married-AF-spouse                    -0.009113   \n",
      "marital-status_ Married-civ-spouse                   -0.322705   \n",
      "marital-status_ Married-spouse-absent                 0.078699   \n",
      "marital-status_ Never-married                        -0.053977   \n",
      "marital-status_ Separated                             0.193708   \n",
      "marital-status_ Widowed                               0.167792   \n",
      "occupation_ Adm-clerical                              0.109405   \n",
      "occupation_ Armed-Forces                             -0.005964   \n",
      "occupation_ Craft-repair                             -0.058809   \n",
      "occupation_ Exec-managerial                          -0.021604   \n",
      "occupation_ Farming-fishing                          -0.026145   \n",
      "occupation_ Handlers-cleaners                        -0.023788   \n",
      "occupation_ Machine-op-inspct                         0.007244   \n",
      "occupation_ Other-service                             0.068625   \n",
      "occupation_ Priv-house-serv                           0.029372   \n",
      "occupation_ Prof-specialty                           -0.017049   \n",
      "occupation_ Protective-serv                          -0.023482   \n",
      "occupation_ Sales                                    -0.023140   \n",
      "occupation_ Tech-support                              0.001180   \n",
      "occupation_ Transport-moving                         -0.033562   \n",
      "relationship_ Husband                                -0.289698   \n",
      "relationship_ Not-in-family                          -0.202588   \n",
      "relationship_ Other-relative                         -0.060162   \n",
      "relationship_ Own-child                              -0.143925   \n",
      "relationship_ Unmarried                               1.000000   \n",
      "relationship_ Wife                                   -0.076337   \n",
      "race_ Amer-Indian-Eskimo                              0.027220   \n",
      "race_ Asian-Pac-Islander                             -0.009064   \n",
      "race_ Black                                           0.147753   \n",
      "race_ Other                                           0.012823   \n",
      "race_ White                                          -0.130216   \n",
      "sex_ Female                                           0.326334   \n",
      "sex_ Male                                            -0.326334   \n",
      "\n",
      "                                       relationship_ Wife  \\\n",
      "age                                              0.024574   \n",
      "capital-gain                                     0.015593   \n",
      "capital-loss                                     0.014981   \n",
      "education_ 10th                                 -0.013756   \n",
      "education_ 11th                                 -0.020484   \n",
      "education_ 12th                                 -0.006475   \n",
      "education_ 1st-4th                              -0.006771   \n",
      "education_ 5th-6th                              -0.007156   \n",
      "education_ 7th-8th                              -0.009304   \n",
      "education_ 9th                                  -0.002851   \n",
      "education_ Assoc-acdm                            0.020136   \n",
      "education_ Assoc-voc                             0.008554   \n",
      "education_ Bachelors                             0.015118   \n",
      "education_ Doctorate                             0.000737   \n",
      "education_ HS-grad                              -0.001909   \n",
      "education_ Masters                               0.020995   \n",
      "education_ Preschool                            -0.000398   \n",
      "education_ Prof-school                          -0.000314   \n",
      "education_ Some-college                         -0.012990   \n",
      "marital-status_ Divorced                        -0.089109   \n",
      "marital-status_ Married-AF-spouse                0.053787   \n",
      "marital-status_ Married-civ-spouse               0.233402   \n",
      "marital-status_ Married-spouse-absent           -0.024642   \n",
      "marital-status_ Never-married                   -0.152545   \n",
      "marital-status_ Separated                       -0.039637   \n",
      "marital-status_ Widowed                         -0.037127   \n",
      "occupation_ Adm-clerical                         0.083473   \n",
      "occupation_ Armed-Forces                        -0.003820   \n",
      "occupation_ Craft-repair                        -0.075741   \n",
      "occupation_ Exec-managerial                      0.023164   \n",
      "occupation_ Farming-fishing                     -0.027467   \n",
      "occupation_ Handlers-cleaners                   -0.035695   \n",
      "occupation_ Machine-op-inspct                   -0.006145   \n",
      "occupation_ Other-service                        0.013395   \n",
      "occupation_ Priv-house-serv                      0.003054   \n",
      "occupation_ Prof-specialty                       0.053006   \n",
      "occupation_ Protective-serv                     -0.025045   \n",
      "occupation_ Sales                               -0.019960   \n",
      "occupation_ Tech-support                         0.005040   \n",
      "occupation_ Transport-moving                    -0.039821   \n",
      "relationship_ Husband                           -0.185552   \n",
      "relationship_ Not-in-family                     -0.129758   \n",
      "relationship_ Other-relative                    -0.038534   \n",
      "relationship_ Own-child                         -0.092184   \n",
      "relationship_ Unmarried                         -0.076337   \n",
      "relationship_ Wife                               1.000000   \n",
      "race_ Amer-Indian-Eskimo                         0.005953   \n",
      "race_ Asian-Pac-Islander                         0.013235   \n",
      "race_ Black                                      0.000911   \n",
      "race_ Other                                      0.000418   \n",
      "race_ White                                     -0.008998   \n",
      "sex_ Female                                      0.318830   \n",
      "sex_ Male                                       -0.318830   \n",
      "\n",
      "                                       race_ Amer-Indian-Eskimo  \\\n",
      "age                                                   -0.012665   \n",
      "capital-gain                                          -0.005703   \n",
      "capital-loss                                          -0.012393   \n",
      "education_ 10th                                        0.013094   \n",
      "education_ 11th                                        0.005721   \n",
      "education_ 12th                                        0.004389   \n",
      "education_ 1st-4th                                     0.007601   \n",
      "education_ 5th-6th                                    -0.002571   \n",
      "education_ 7th-8th                                     0.004367   \n",
      "education_ 9th                                        -0.003689   \n",
      "education_ Assoc-acdm                                 -0.004869   \n",
      "education_ Assoc-voc                                   0.006060   \n",
      "education_ Bachelors                                  -0.025510   \n",
      "education_ Doctorate                                  -0.004803   \n",
      "education_ HS-grad                                     0.016561   \n",
      "education_ Masters                                    -0.015791   \n",
      "education_ Preschool                                  -0.003782   \n",
      "education_ Prof-school                                -0.008085   \n",
      "education_ Some-college                                0.006327   \n",
      "marital-status_ Divorced                               0.013857   \n",
      "marital-status_ Married-AF-spouse                     -0.002583   \n",
      "marital-status_ Married-civ-spouse                    -0.016709   \n",
      "marital-status_ Married-spouse-absent                  0.013959   \n",
      "marital-status_ Never-married                          0.002032   \n",
      "marital-status_ Separated                              0.002159   \n",
      "marital-status_ Widowed                                0.004521   \n",
      "occupation_ Adm-clerical                              -0.004455   \n",
      "occupation_ Armed-Forces                               0.018117   \n",
      "occupation_ Craft-repair                               0.005819   \n",
      "occupation_ Exec-managerial                           -0.007927   \n",
      "occupation_ Farming-fishing                            0.001195   \n",
      "occupation_ Handlers-cleaners                          0.015220   \n",
      "occupation_ Machine-op-inspct                          0.000496   \n",
      "occupation_ Other-service                              0.002821   \n",
      "occupation_ Priv-house-serv                           -0.006753   \n",
      "occupation_ Prof-specialty                            -0.005313   \n",
      "occupation_ Protective-serv                            0.004481   \n",
      "occupation_ Sales                                     -0.008441   \n",
      "occupation_ Tech-support                              -0.009285   \n",
      "occupation_ Transport-moving                           0.015536   \n",
      "relationship_ Husband                                 -0.020965   \n",
      "relationship_ Not-in-family                           -0.000987   \n",
      "relationship_ Other-relative                           0.005199   \n",
      "relationship_ Own-child                                0.000629   \n",
      "relationship_ Unmarried                                0.027220   \n",
      "relationship_ Wife                                     0.005953   \n",
      "race_ Amer-Indian-Eskimo                               1.000000   \n",
      "race_ Asian-Pac-Islander                              -0.017110   \n",
      "race_ Black                                           -0.031403   \n",
      "race_ Other                                           -0.008595   \n",
      "race_ White                                           -0.242287   \n",
      "sex_ Female                                            0.010411   \n",
      "sex_ Male                                             -0.010411   \n",
      "\n",
      "                                       race_ Asian-Pac-Islander  race_ Black  \\\n",
      "age                                                   -0.007020    -0.014101   \n",
      "capital-gain                                           0.005014    -0.021117   \n",
      "capital-loss                                           0.001432    -0.025488   \n",
      "education_ 10th                                       -0.016018     0.029717   \n",
      "education_ 11th                                       -0.013974     0.018740   \n",
      "education_ 12th                                       -0.012639     0.016193   \n",
      "education_ 1st-4th                                    -0.004099    -0.001780   \n",
      "education_ 5th-6th                                     0.012967    -0.010425   \n",
      "education_ 7th-8th                                    -0.009474    -0.002557   \n",
      "education_ 9th                                        -0.008818     0.032253   \n",
      "education_ Assoc-acdm                                 -0.003164     0.003713   \n",
      "education_ Assoc-voc                                  -0.003630    -0.007873   \n",
      "education_ Bachelors                                   0.053577    -0.051930   \n",
      "education_ Doctorate                                   0.026225    -0.027787   \n",
      "education_ HS-grad                                    -0.041252     0.034506   \n",
      "education_ Masters                                     0.028302    -0.037300   \n",
      "education_ Preschool                                   0.023614    -0.000599   \n",
      "education_ Prof-school                                 0.027824    -0.030552   \n",
      "education_ Some-college                               -0.012780     0.017372   \n",
      "marital-status_ Divorced                              -0.032712     0.019203   \n",
      "marital-status_ Married-AF-spouse                     -0.004616    -0.004152   \n",
      "marital-status_ Married-civ-spouse                     0.009654    -0.125071   \n",
      "marital-status_ Married-spouse-absent                  0.039088     0.020126   \n",
      "marital-status_ Never-married                          0.010617     0.070357   \n",
      "marital-status_ Separated                             -0.011096     0.099916   \n",
      "marital-status_ Widowed                               -0.004235     0.020765   \n",
      "occupation_ Adm-clerical                               0.014014     0.045898   \n",
      "occupation_ Armed-Forces                              -0.003021     0.001052   \n",
      "occupation_ Craft-repair                              -0.021009    -0.047682   \n",
      "occupation_ Exec-managerial                            0.001467    -0.046344   \n",
      "occupation_ Farming-fishing                           -0.014643    -0.032225   \n",
      "occupation_ Handlers-cleaners                         -0.017064     0.024199   \n",
      "occupation_ Machine-op-inspct                         -0.006599     0.039411   \n",
      "occupation_ Other-service                              0.013739     0.093455   \n",
      "occupation_ Priv-house-serv                           -0.000692     0.022632   \n",
      "occupation_ Prof-specialty                             0.032236    -0.050569   \n",
      "occupation_ Protective-serv                           -0.006906     0.029836   \n",
      "occupation_ Sales                                     -0.006249    -0.030539   \n",
      "occupation_ Tech-support                               0.017045    -0.012094   \n",
      "occupation_ Transport-moving                          -0.023424     0.010346   \n",
      "relationship_ Husband                                 -0.004689    -0.125642   \n",
      "relationship_ Not-in-family                           -0.018914     0.002982   \n",
      "relationship_ Other-relative                           0.048082     0.042421   \n",
      "relationship_ Own-child                                0.006866     0.021460   \n",
      "relationship_ Unmarried                               -0.009064     0.147753   \n",
      "relationship_ Wife                                     0.013235     0.000911   \n",
      "race_ Amer-Indian-Eskimo                              -0.017110    -0.031403   \n",
      "race_ Asian-Pac-Islander                               1.000000    -0.056128   \n",
      "race_ Black                                           -0.056128     1.000000   \n",
      "race_ Other                                           -0.015363    -0.028197   \n",
      "race_ White                                           -0.433042    -0.794808   \n",
      "sex_ Female                                            0.001560     0.118145   \n",
      "sex_ Male                                             -0.001560    -0.118145   \n",
      "\n",
      "                                       race_ Other  race_ White  sex_ Female  \\\n",
      "age                                      -0.032347     0.026906    -0.081993   \n",
      "capital-gain                             -0.000372     0.016933    -0.048814   \n",
      "capital-loss                             -0.008274     0.026197    -0.047011   \n",
      "education_ 10th                           0.004022    -0.021742    -0.006941   \n",
      "education_ 11th                          -0.002131    -0.009938     0.012034   \n",
      "education_ 12th                           0.027771    -0.015592    -0.000170   \n",
      "education_ 1st-4th                        0.042265    -0.009239    -0.005992   \n",
      "education_ 5th-6th                        0.034392    -0.005518    -0.017772   \n",
      "education_ 7th-8th                        0.030321    -0.002059    -0.025589   \n",
      "education_ 9th                            0.014088    -0.025229    -0.016597   \n",
      "education_ Assoc-acdm                     0.000593    -0.000355     0.026832   \n",
      "education_ Assoc-voc                     -0.007490     0.008561     0.010825   \n",
      "education_ Bachelors                     -0.015929     0.028458    -0.021607   \n",
      "education_ Doctorate                     -0.006425     0.013425    -0.025962   \n",
      "education_ HS-grad                       -0.005160    -0.012086    -0.012880   \n",
      "education_ Masters                       -0.012560     0.024990    -0.005851   \n",
      "education_ Preschool                      0.016311    -0.014079    -0.001090   \n",
      "education_ Prof-school                   -0.000432     0.014372    -0.047333   \n",
      "education_ Some-college                  -0.006544    -0.008436     0.058207   \n",
      "marital-status_ Divorced                 -0.010173    -0.001420     0.237452   \n",
      "marital-status_ Married-AF-spouse        -0.002319     0.007039     0.013934   \n",
      "marital-status_ Married-civ-spouse       -0.011983     0.107775    -0.437485   \n",
      "marital-status_ Married-spouse-absent     0.038579    -0.049553     0.044398   \n",
      "marital-status_ Never-married             0.007739    -0.066665     0.175420   \n",
      "marital-status_ Separated                 0.012719    -0.082112     0.109889   \n",
      "marital-status_ Widowed                  -0.003106    -0.015816     0.181200   \n",
      "occupation_ Adm-clerical                 -0.006358    -0.042475     0.281099   \n",
      "occupation_ Armed-Forces                 -0.001518    -0.004081    -0.011969   \n",
      "occupation_ Craft-repair                 -0.006555     0.050250    -0.227105   \n",
      "occupation_ Exec-managerial              -0.021966     0.045851    -0.031698   \n",
      "occupation_ Farming-fishing               0.007315     0.031994    -0.101711   \n",
      "occupation_ Handlers-cleaners             0.001215    -0.016494    -0.093792   \n",
      "occupation_ Machine-op-inspct             0.036888    -0.039205    -0.027144   \n",
      "occupation_ Other-service                 0.015288    -0.089664     0.164464   \n",
      "occupation_ Priv-house-serv               0.010546    -0.019392     0.091374   \n",
      "occupation_ Prof-specialty               -0.003267     0.028930     0.037732   \n",
      "occupation_ Protective-serv               0.000178    -0.022926    -0.065095   \n",
      "occupation_ Sales                        -0.006404     0.032612     0.018748   \n",
      "occupation_ Tech-support                 -0.008850     0.006620     0.018705   \n",
      "occupation_ Transport-moving              0.001644    -0.001972    -0.133776   \n",
      "relationship_ Husband                    -0.017339     0.117795    -0.581221   \n",
      "relationship_ Not-in-family              -0.001020     0.007276     0.172044   \n",
      "relationship_ Other-relative              0.040905    -0.070773     0.040905   \n",
      "relationship_ Own-child                  -0.005572    -0.020117     0.102220   \n",
      "relationship_ Unmarried                   0.012823    -0.130216     0.326334   \n",
      "relationship_ Wife                        0.000418    -0.008998     0.318830   \n",
      "race_ Amer-Indian-Eskimo                 -0.008595    -0.242287     0.010411   \n",
      "race_ Asian-Pac-Islander                 -0.015363    -0.433042     0.001560   \n",
      "race_ Black                              -0.028197    -0.794808     0.118145   \n",
      "race_ Other                               1.000000    -0.217547     0.009817   \n",
      "race_ White                              -0.217547     1.000000    -0.105148   \n",
      "sex_ Female                               0.009817    -0.105148     1.000000   \n",
      "sex_ Male                                -0.009817     0.105148    -1.000000   \n",
      "\n",
      "                                       sex_ Male  \n",
      "age                                     0.081993  \n",
      "capital-gain                            0.048814  \n",
      "capital-loss                            0.047011  \n",
      "education_ 10th                         0.006941  \n",
      "education_ 11th                        -0.012034  \n",
      "education_ 12th                         0.000170  \n",
      "education_ 1st-4th                      0.005992  \n",
      "education_ 5th-6th                      0.017772  \n",
      "education_ 7th-8th                      0.025589  \n",
      "education_ 9th                          0.016597  \n",
      "education_ Assoc-acdm                  -0.026832  \n",
      "education_ Assoc-voc                   -0.010825  \n",
      "education_ Bachelors                    0.021607  \n",
      "education_ Doctorate                    0.025962  \n",
      "education_ HS-grad                      0.012880  \n",
      "education_ Masters                      0.005851  \n",
      "education_ Preschool                    0.001090  \n",
      "education_ Prof-school                  0.047333  \n",
      "education_ Some-college                -0.058207  \n",
      "marital-status_ Divorced               -0.237452  \n",
      "marital-status_ Married-AF-spouse      -0.013934  \n",
      "marital-status_ Married-civ-spouse      0.437485  \n",
      "marital-status_ Married-spouse-absent  -0.044398  \n",
      "marital-status_ Never-married          -0.175420  \n",
      "marital-status_ Separated              -0.109889  \n",
      "marital-status_ Widowed                -0.181200  \n",
      "occupation_ Adm-clerical               -0.281099  \n",
      "occupation_ Armed-Forces                0.011969  \n",
      "occupation_ Craft-repair                0.227105  \n",
      "occupation_ Exec-managerial             0.031698  \n",
      "occupation_ Farming-fishing             0.101711  \n",
      "occupation_ Handlers-cleaners           0.093792  \n",
      "occupation_ Machine-op-inspct           0.027144  \n",
      "occupation_ Other-service              -0.164464  \n",
      "occupation_ Priv-house-serv            -0.091374  \n",
      "occupation_ Prof-specialty             -0.037732  \n",
      "occupation_ Protective-serv             0.065095  \n",
      "occupation_ Sales                      -0.018748  \n",
      "occupation_ Tech-support               -0.018705  \n",
      "occupation_ Transport-moving            0.133776  \n",
      "relationship_ Husband                   0.581221  \n",
      "relationship_ Not-in-family            -0.172044  \n",
      "relationship_ Other-relative           -0.040905  \n",
      "relationship_ Own-child                -0.102220  \n",
      "relationship_ Unmarried                -0.326334  \n",
      "relationship_ Wife                     -0.318830  \n",
      "race_ Amer-Indian-Eskimo               -0.010411  \n",
      "race_ Asian-Pac-Islander               -0.001560  \n",
      "race_ Black                            -0.118145  \n",
      "race_ Other                            -0.009817  \n",
      "race_ White                             0.105148  \n",
      "sex_ Female                            -1.000000  \n",
      "sex_ Male                               1.000000  \n",
      "\n",
      "[53 rows x 53 columns]\n"
     ]
    }
   ],
   "source": [
    "X_dummies = pd.get_dummies(X)\n",
    "print(\"Pearson Correlation: \")\n",
    "print(X_dummies.corr(method='pearson'))"
   ]
  },
  {
   "cell_type": "code",
   "execution_count": null,
   "metadata": {},
   "outputs": [],
   "source": [
    "pred_df = X_test.copy()\n",
    "pred_df['salary'] = pd.Series(y_test, index=pred_df.index)\n",
    "pred_df['predicted salary'] = pd.Series(y_pred, index=pred_df.index)\n",
    "pred_df"
   ]
  },
  {
   "cell_type": "code",
   "execution_count": null,
   "metadata": {},
   "outputs": [],
   "source": [
    "y1_test = y_test.to_numpy().astype(int)\n",
    "cnf_matrix = metrics.confusion_matrix(y1_test, y_pred)\n",
    "cnf_matrix"
   ]
  },
  {
   "cell_type": "code",
   "execution_count": null,
   "metadata": {},
   "outputs": [],
   "source": [
    "class_names=[0,1] # name  of classes\n",
    "fig, ax = plt.subplots()\n",
    "tick_marks = np.arange(len(class_names))\n",
    "plt.xticks(tick_marks, class_names)\n",
    "plt.yticks(tick_marks, class_names)\n",
    "# create heatmap\n",
    "sns.heatmap(pd.DataFrame(cnf_matrix), annot=True, cmap=\"YlGnBu\" ,fmt='g')\n",
    "ax.xaxis.set_label_position(\"top\")\n",
    "plt.tight_layout()\n",
    "plt.title('Confusion matrix', y=1.1)\n",
    "plt.ylabel('Actual Salary')\n",
    "plt.xlabel('Predicted Salary')"
   ]
  },
  {
   "cell_type": "code",
   "execution_count": null,
   "metadata": {},
   "outputs": [],
   "source": [
    "print(\"Accuracy:\",metrics.accuracy_score(y1_test, y_pred))\n",
    "print(\"Precision:\",metrics.precision_score(y1_test, y_pred))"
   ]
  }
 ],
 "metadata": {
  "interpreter": {
   "hash": "eed84e3d14cee6c6cc5b4d44494277ebdf36fb0f3225505952c16bc2b05646ec"
  },
  "kernelspec": {
   "display_name": "Python 3.9.7 ('base')",
   "language": "python",
   "name": "python3"
  },
  "language_info": {
   "codemirror_mode": {
    "name": "ipython",
    "version": 3
   },
   "file_extension": ".py",
   "mimetype": "text/x-python",
   "name": "python",
   "nbconvert_exporter": "python",
   "pygments_lexer": "ipython3",
   "version": "3.9.7"
  },
  "orig_nbformat": 4
 },
 "nbformat": 4,
 "nbformat_minor": 2
}
